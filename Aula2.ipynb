{
 "cells": [
  {
   "cell_type": "code",
   "execution_count": null,
   "metadata": {
    "collapsed": true
   },
   "outputs": [],
   "source": [
    "Por truncamento:"
   ]
  },
  {
   "cell_type": "code",
   "execution_count": 1,
   "metadata": {
    "collapsed": false,
    "scrolled": true
   },
   "outputs": [
    {
     "name": "stdout",
     "output_type": "stream",
     "text": [
      "1.25\n",
      "10.0\n",
      "-238.0\n",
      "2.71828\n",
      "7.0\n",
      "1.0053e-05\n",
      "718230.0\n"
     ]
    }
   ],
   "source": [
    "print(0.125*10)\n",
    "print(0.100*10**2)\n",
    "print(-0.238*10**3)\n",
    "print(0.271828*10**1)\n",
    "print(0.000007*10**6)\n",
    "print(0.10053*10**-4)\n",
    "print(0.71823*10**6)"
   ]
  },
  {
   "cell_type": "code",
   "execution_count": null,
   "metadata": {
    "collapsed": true
   },
   "outputs": [],
   "source": [
    "Por arredondamento:"
   ]
  },
  {
   "cell_type": "code",
   "execution_count": 4,
   "metadata": {
    "collapsed": false
   },
   "outputs": [
    {
     "name": "stdout",
     "output_type": "stream",
     "text": [
      "1.25\n",
      "10.100000000000001\n",
      "-238.15\n",
      "2.71828\n",
      "7.0\n",
      "1e-05\n",
      "720000.0\n"
     ]
    }
   ],
   "source": [
    "print(0.125*10)\n",
    "print(0.101*10**2)\n",
    "print(-0.23815*10**3)\n",
    "print(0.271828*10**1)\n",
    "print(0.000007*10**6)\n",
    "print(0.1*10**-4)\n",
    "print(0.720*10**6)"
   ]
  },
  {
   "cell_type": "code",
   "execution_count": null,
   "metadata": {
    "collapsed": true
   },
   "outputs": [],
   "source": [
    "Exercício pra casa: Def"
   ]
  },
  {
   "cell_type": "code",
   "execution_count": null,
   "metadata": {
    "collapsed": true
   },
   "outputs": [],
   "source": [
    "parametros pro def(base, expoente e numero de digitos)"
   ]
  }
 ],
 "metadata": {
  "anaconda-cloud": {},
  "kernelspec": {
   "display_name": "Python [default]",
   "language": "python",
   "name": "python3"
  },
  "language_info": {
   "codemirror_mode": {
    "name": "ipython",
    "version": 3
   },
   "file_extension": ".py",
   "mimetype": "text/x-python",
   "name": "python",
   "nbconvert_exporter": "python",
   "pygments_lexer": "ipython3",
   "version": "3.5.2"
  }
 },
 "nbformat": 4,
 "nbformat_minor": 1
}
